{
 "cells": [
  {
   "cell_type": "markdown",
   "id": "e7d4d6c6",
   "metadata": {},
   "source": [
    "# EDA for analyzing affecting factors of chance of admission #"
   ]
  },
  {
   "cell_type": "markdown",
   "id": "808a144b",
   "metadata": {},
   "source": [
    "Importing libraries"
   ]
  },
  {
   "cell_type": "code",
   "execution_count": null,
   "id": "2028e7bd",
   "metadata": {},
   "outputs": [
    {
     "ename": "SyntaxError",
     "evalue": "invalid syntax (__init__.py, line 7)",
     "output_type": "error",
     "traceback": [
      "Traceback \u001b[1;36m(most recent call last)\u001b[0m:\n",
      "  File \u001b[0;32m\"c:\\Everything Else\\ULAB\\bigdatalab\\bigdata-open-ended\\open\\lib\\site-packages\\IPython\\core\\interactiveshell.py\"\u001b[0m, line \u001b[0;32m3553\u001b[0m, in \u001b[0;35mrun_code\u001b[0m\n",
      "\u001b[1;36m  File \u001b[1;32m\"C:\\Users\\User\\AppData\\Local\\Temp\\ipykernel_18672\\2109681805.py\"\u001b[1;36m, line \u001b[1;32m1\u001b[1;36m, in \u001b[1;35m<module>\u001b[1;36m\u001b[0m\n\u001b[1;33m    import pandas as pd\u001b[0m\n",
      "\u001b[1;36m  File \u001b[1;32m\"c:\\Everything Else\\ULAB\\bigdatalab\\bigdata-open-ended\\open\\lib\\site-packages\\pandas\\__init__.py\"\u001b[1;36m, line \u001b[1;32m7\u001b[0m\n\u001b[1;33m    if os.path.isdir(libs_dir := os.path.abspath(os.path.join(os.path.dirname(__file__), os.pardir, 'pandas.libs'))):\u001b[0m\n\u001b[1;37m                              ^\u001b[0m\n\u001b[1;31mSyntaxError\u001b[0m\u001b[1;31m:\u001b[0m invalid syntax\n"
     ]
    }
   ],
   "source": [
    "import pandas as pd\n",
    "import matplotlib.pyplot as plt\n",
    "from sklearn.linear_model import LogisticRegression\n",
    "from sklearn.model_selection import KFold, cross_val_score\n",
    "import seaborn as sns"
   ]
  },
  {
   "cell_type": "markdown",
   "id": "54074a34",
   "metadata": {},
   "source": [
    "Loading Dataset"
   ]
  },
  {
   "cell_type": "code",
   "execution_count": null,
   "id": "0f1e0ead",
   "metadata": {},
   "outputs": [],
   "source": [
    "df=pd.read_csv(\"Admission_Predict_Ver1.1.csv\")"
   ]
  },
  {
   "cell_type": "code",
   "execution_count": null,
   "id": "c21feb81",
   "metadata": {},
   "outputs": [],
   "source": [
    "df.head()"
   ]
  },
  {
   "cell_type": "markdown",
   "id": "f1e5fa8d",
   "metadata": {},
   "source": [
    "Removing 'Serial No.' feature"
   ]
  },
  {
   "cell_type": "code",
   "execution_count": null,
   "id": "34ea56a0",
   "metadata": {},
   "outputs": [],
   "source": [
    "df.drop('Serial No.', axis=1, inplace=True)"
   ]
  },
  {
   "cell_type": "code",
   "execution_count": null,
   "id": "5f886bfc",
   "metadata": {},
   "outputs": [],
   "source": [
    "df.head()"
   ]
  },
  {
   "cell_type": "markdown",
   "id": "f83b4d13",
   "metadata": {},
   "source": [
    "Checking total dimensions, total null values, and standard deviation of dataet"
   ]
  },
  {
   "cell_type": "code",
   "execution_count": null,
   "id": "e2b8a884",
   "metadata": {},
   "outputs": [],
   "source": [
    "print(f'Total rows: {df.shape[0]}\\nTotal columns: {df.shape[1]}')"
   ]
  },
  {
   "cell_type": "code",
   "execution_count": null,
   "id": "d6da80b7",
   "metadata": {},
   "outputs": [],
   "source": [
    "df.isnull().sum()"
   ]
  },
  {
   "cell_type": "code",
   "execution_count": null,
   "id": "6d2cd6da",
   "metadata": {},
   "outputs": [],
   "source": [
    "df.describe()"
   ]
  },
  {
   "cell_type": "code",
   "execution_count": null,
   "id": "9b292782",
   "metadata": {},
   "outputs": [],
   "source": [
    "df['University Rating'].value_counts()"
   ]
  },
  {
   "cell_type": "code",
   "execution_count": null,
   "id": "bc662322",
   "metadata": {},
   "outputs": [],
   "source": [
    "df['Research'].value_counts()"
   ]
  },
  {
   "cell_type": "code",
   "execution_count": null,
   "id": "f7a63c52",
   "metadata": {},
   "outputs": [],
   "source": [
    "df['SOP'].value_counts()"
   ]
  },
  {
   "cell_type": "code",
   "execution_count": null,
   "id": "456b7818",
   "metadata": {},
   "outputs": [],
   "source": [
    "print(df.columns.tolist())"
   ]
  },
  {
   "cell_type": "code",
   "execution_count": null,
   "id": "b3a9fd23",
   "metadata": {},
   "outputs": [],
   "source": [
    "df['LOR '].value_counts()"
   ]
  },
  {
   "cell_type": "code",
   "execution_count": null,
   "id": "a20c1752",
   "metadata": {},
   "outputs": [],
   "source": [
    "df.columns = df.columns.str.strip()"
   ]
  },
  {
   "cell_type": "code",
   "execution_count": null,
   "id": "96d449d8",
   "metadata": {},
   "outputs": [],
   "source": [
    "df['LOR'].value_counts()"
   ]
  },
  {
   "cell_type": "code",
   "execution_count": null,
   "id": "ad9f6e7f",
   "metadata": {},
   "outputs": [],
   "source": [
    "df.hist(figsize=(10,8))\n",
    "plt.show()"
   ]
  },
  {
   "cell_type": "markdown",
   "id": "91f01791",
   "metadata": {},
   "source": [
    "GRE Score: The distribution is right-skewed with a peak around 320-330, indicating that most applicants have GRE scores in this range. Scores taper off below 300 and above 340, with fewer applicants at the extremes.\n",
    "TOEFL Score: The distribution is also right-skewed, with a prominent peak around 110-115. Most scores cluster between 100 and 120, with a gradual decline toward lower and higher values, suggesting a concentration of applicants with moderate to high TOEFL scores.\n",
    "University Rating: The distribution is heavily skewed toward lower ratings (1-2), with a sharp peak at rating 3. Higher ratings (4-5) have significantly fewer applicants, indicating that most apply to mid-tier or lower-rated universities.\n",
    "SOP (Strength of Statement of Purpose): The distribution peaks around 3-4, showing that the majority of applicants have moderate to strong SOP ratings. There are fewer instances of very low (1) or very high (5) ratings, suggesting a relatively balanced but centered distribution.\n",
    "LOR (Strength of Letter of Recommendation): Similar to SOP, the distribution peaks around 3-4, with a noticeable drop-off at the extremes (1 and 5). This indicates that most LOR ratings fall in the mid-range, with fewer exceptional or weak recommendations.\n",
    "CGPA: The distribution is right-skewed with a peak around 8-9, reflecting that most applicants have CGPAs in the higher range. There are fewer instances below 7 and above 9.5, indicating a concentration of strong academic performers.\n",
    "Research: The distribution is heavily skewed, with a vast majority of applicants having no research experience (0), and only a small fraction (around 1) having research experience. This suggests research is not common among the applicant pool.\n",
    "Chance of Admit: The distribution is right-skewed with a peak around 0.6-0.8, indicating that most applicants have a moderate to high chance of admission. There are fewer instances below 0.4 and above 1.0, showing a concentration of probabilities in the upper-middle range."
   ]
  },
  {
   "cell_type": "code",
   "execution_count": null,
   "id": "d16dcb47",
   "metadata": {},
   "outputs": [],
   "source": [
    "plt.figure(figsize=(8, 6))\n",
    "sns.histplot(df['GRE Score'], bins=20, kde=True)\n",
    "plt.title('Distribution of GRE Scores')\n",
    "plt.xlabel('GRE Score')\n",
    "plt.ylabel('Frequency')\n",
    "plt.show()"
   ]
  },
  {
   "cell_type": "markdown",
   "id": "0b5060d6",
   "metadata": {},
   "source": [
    "The distribution shows a peak around 320-330, indicating that the majority of applicants have GRE scores in this range.\n",
    "Scores taper off on both ends, with fewer applicants scoring below 300 or above 340, suggesting a relatively normal distribution with a slight right skew."
   ]
  },
  {
   "cell_type": "code",
   "execution_count": null,
   "id": "b87ea21c",
   "metadata": {},
   "outputs": [],
   "source": [
    "print(df['GRE Score'].describe())"
   ]
  },
  {
   "cell_type": "code",
   "execution_count": null,
   "id": "41ddaf77",
   "metadata": {},
   "outputs": [],
   "source": [
    "plt.figure(figsize=(8, 6))\n",
    "sns.histplot(df['TOEFL Score'], bins=20, kde=True)\n",
    "plt.title('Distribution of TOEFL Scores')\n",
    "plt.xlabel('TOEFL Score')\n",
    "plt.ylabel('Frequency')\n",
    "plt.show()\n",
    "\n",
    "print(df['TOEFL Score'].describe())"
   ]
  },
  {
   "cell_type": "markdown",
   "id": "73d8cb62",
   "metadata": {},
   "source": [
    "The distribution peaks around 110-115, showing that most applicants have TOEFL scores in this range.\n",
    "Similar to GRE scores, the distribution is somewhat normal with a slight skew, with fewer scores below 100 and above 120."
   ]
  },
  {
   "cell_type": "code",
   "execution_count": null,
   "id": "e70d0b57",
   "metadata": {},
   "outputs": [],
   "source": [
    "plt.figure(figsize=(8, 6))\n",
    "sns.countplot(x='University Rating', data=df)\n",
    "plt.title('Distribution of University Ratings')\n",
    "plt.xlabel('University Rating')\n",
    "plt.ylabel('Count')\n",
    "plt.show()\n",
    "\n",
    "print(df['University Rating'].value_counts())"
   ]
  },
  {
   "cell_type": "markdown",
   "id": "56aa5e1a",
   "metadata": {},
   "source": [
    "The data is heavily skewed towards a rating of 3, with the highest frequency of applicants applying to universities rated 3.\n",
    "Ratings of 1 and 5 have the lowest frequencies, while ratings 2 and 4 fall in between, indicating a preference for mid-tier universities."
   ]
  },
  {
   "cell_type": "code",
   "execution_count": null,
   "id": "0f7d9aa2",
   "metadata": {},
   "outputs": [],
   "source": [
    "plt.figure(figsize=(8, 6))\n",
    "sns.countplot(x='SOP', data=df)\n",
    "plt.title('Distribution of SOP Ratings')\n",
    "plt.xlabel('SOP Rating')\n",
    "plt.ylabel('Count')\n",
    "plt.show()\n",
    "\n",
    "print(df['SOP'].value_counts())"
   ]
  },
  {
   "cell_type": "markdown",
   "id": "92b0afb3",
   "metadata": {},
   "source": [
    "The distribution peaks around 3.0-4.0, with the highest frequency at 4.0, suggesting that most applicants have strong SOP ratings.\n",
    "Ratings below 2.0 and above 4.5 are less common, indicating a concentration of moderate to high SOP quality."
   ]
  },
  {
   "cell_type": "code",
   "execution_count": null,
   "id": "311a1263",
   "metadata": {},
   "outputs": [],
   "source": [
    "plt.figure(figsize=(8, 6))\n",
    "sns.countplot(x='LOR', data=df)\n",
    "plt.title('Distribution of LOR Ratings')\n",
    "plt.xlabel('LOR Rating')\n",
    "plt.ylabel('Count')\n",
    "plt.show()\n",
    "\n",
    "print(df['LOR'].value_counts())"
   ]
  },
  {
   "cell_type": "markdown",
   "id": "4295bc70",
   "metadata": {},
   "source": [
    "The distribution peaks around 3.0-4.0, with a notable frequency at 3.5, indicating a majority of applicants have good LOR ratings.\n",
    "Ratings below 2.0 are rare, and the distribution shows a gradual decline towards 5.0, with a slight dip at 4.5."
   ]
  },
  {
   "cell_type": "code",
   "execution_count": null,
   "id": "f8de12d6",
   "metadata": {},
   "outputs": [],
   "source": [
    "plt.figure(figsize=(8, 6))\n",
    "sns.histplot(df['CGPA'], bins=20, kde=True)\n",
    "plt.title('Distribution of CGPA')\n",
    "plt.xlabel('CGPA')\n",
    "plt.ylabel('Frequency')\n",
    "plt.show()\n",
    "\n",
    "print(df['CGPA'].describe())"
   ]
  },
  {
   "cell_type": "markdown",
   "id": "3ba2e01a",
   "metadata": {},
   "source": [
    "The distribution is centered around 8.5-9.0, with a peak at 9.0, suggesting that most applicants have a CGPA in the high 8 to low 9 range.\n",
    "The distribution is approximately normal, with fewer applicants having CGPAs below 7.5 or above 9.5."
   ]
  },
  {
   "cell_type": "code",
   "execution_count": null,
   "id": "c03a69a4",
   "metadata": {},
   "outputs": [],
   "source": [
    "plt.figure(figsize=(8, 6))\n",
    "sns.countplot(x='Research', data=df)\n",
    "plt.title('Distribution of Research Experience')\n",
    "plt.xlabel('Research Experience (0 = No, 1 = Yes)')\n",
    "plt.ylabel('Count')\n",
    "plt.show()\n",
    "\n",
    "print(df['Research'].value_counts(normalize=True))"
   ]
  },
  {
   "cell_type": "markdown",
   "id": "2a7cec6c",
   "metadata": {},
   "source": [
    "The data is binary, with a significant majority of applicants (around 250) having research experience (1) compared to those without (around 200).\n",
    "This indicates that research experience is common among the applicant pool."
   ]
  },
  {
   "cell_type": "code",
   "execution_count": null,
   "id": "575d0bda",
   "metadata": {},
   "outputs": [],
   "source": [
    "plt.figure(figsize=(8, 6))\n",
    "sns.histplot(df['Chance of Admit'], bins=20, kde=True)\n",
    "plt.title('Distribution of Chance of Admission')\n",
    "plt.xlabel('Chance of Admission')\n",
    "plt.ylabel('Frequency')\n",
    "plt.show()\n",
    "\n",
    "print(df['Chance of Admit'].describe())"
   ]
  },
  {
   "cell_type": "markdown",
   "id": "b7b21f1b",
   "metadata": {},
   "source": [
    "The distribution peaks around 0.7-0.8, indicating that most applicants have a moderate to high chance of admission.\n",
    "The distribution is skewed towards higher chances, with fewer applicants having a chance below 0.5 or above 0.9."
   ]
  },
  {
   "cell_type": "code",
   "execution_count": null,
   "id": "53a94ffd",
   "metadata": {},
   "outputs": [],
   "source": [
    "plt.figure(figsize=(8, 6))\n",
    "sns.scatterplot(x='GRE Score', y='Chance of Admit', data=df)\n",
    "plt.title('GRE Score vs. Chance of Admission')\n",
    "plt.xlabel('GRE Score')\n",
    "plt.ylabel('Chance of Admission')\n",
    "plt.show()\n",
    "\n",
    "print(\"Correlation between GRE Score and Chance of Admission:\", \n",
    "      df['GRE Score'].corr(df['Chance of Admit']))"
   ]
  },
  {
   "cell_type": "markdown",
   "id": "8ea508ff",
   "metadata": {},
   "source": [
    "There is a positive correlation between GRE scores and the chance of admission, with higher GRE scores generally associated with higher admission chances.\n",
    "The scatter plot shows a trend where scores above 320 are more likely to result in admission chances above 0.7, though there is some variability."
   ]
  },
  {
   "cell_type": "code",
   "execution_count": null,
   "id": "38acba94",
   "metadata": {},
   "outputs": [],
   "source": [
    "plt.figure(figsize=(8, 6))\n",
    "sns.scatterplot(x='TOEFL Score', y='Chance of Admit', data=df)\n",
    "plt.title('TOEFL Score vs. Chance of Admission')\n",
    "plt.xlabel('TOEFL Score')\n",
    "plt.ylabel('Chance of Admission')\n",
    "plt.show()\n",
    "\n",
    "print(\"Correlation between TOEFL Score and Chance of Admission:\", \n",
    "      df['TOEFL Score'].corr(df['Chance of Admit']))"
   ]
  },
  {
   "cell_type": "markdown",
   "id": "292b210b",
   "metadata": {},
   "source": [
    "There is a positive correlation between TOEFL scores and the chance of admission, with higher TOEFL scores (above 110) generally associated with admission chances above 0.7.\n",
    "The scatter plot shows a dense cluster of points, indicating that most applicants with scores between 105 and 115 have a moderate to high chance of admission, with some variability."
   ]
  },
  {
   "cell_type": "code",
   "execution_count": null,
   "id": "570aa559",
   "metadata": {},
   "outputs": [],
   "source": [
    "plt.figure(figsize=(8, 6))\n",
    "sns.boxplot(x='University Rating', y='Chance of Admit', data=df)\n",
    "plt.title('University Rating vs. Chance of Admission')\n",
    "plt.xlabel('University Rating')\n",
    "plt.ylabel('Chance of Admission')\n",
    "plt.show()"
   ]
  },
  {
   "cell_type": "markdown",
   "id": "05ac1b2f",
   "metadata": {},
   "source": [
    "The box plot shows that the median chance of admission increases with university rating, with the highest median around 0.8-0.9 for rating 5.\n",
    "Lower-rated universities (1 and 2) have a wider interquartile range and lower median chances (around 0.6-0.7), while higher-rated universities (4 and 5) show higher chances with some outliers."
   ]
  },
  {
   "cell_type": "code",
   "execution_count": null,
   "id": "4e9badee",
   "metadata": {},
   "outputs": [],
   "source": [
    "plt.figure(figsize=(8, 6))\n",
    "sns.boxplot(x='SOP', y='Chance of Admit', data=df)\n",
    "plt.title('SOP Rating vs. Chance of Admission')\n",
    "plt.xlabel('SOP Rating')\n",
    "plt.ylabel('Chance of Admission')\n",
    "plt.show()"
   ]
  },
  {
   "cell_type": "markdown",
   "id": "e7fa20de",
   "metadata": {},
   "source": [
    "The box plot indicates a general increase in the median chance of admission as SOP rating improves, with the highest median around 0.8-0.9 for ratings 4.0-5.0.\n",
    "Lower SOP ratings (1.0-2.0) have lower median chances (around 0.6) and a wider spread, while higher ratings show a tighter range and higher chances."
   ]
  },
  {
   "cell_type": "code",
   "execution_count": null,
   "id": "3cab9761",
   "metadata": {},
   "outputs": [],
   "source": [
    "plt.figure(figsize=(8, 6))\n",
    "sns.boxplot(x='LOR', y='Chance of Admit', data=df)\n",
    "plt.title('LOR Rating vs. Chance of Admission')\n",
    "plt.xlabel('LOR Rating')\n",
    "plt.ylabel('Chance of Admission')\n",
    "plt.show()"
   ]
  },
  {
   "cell_type": "markdown",
   "id": "85057403",
   "metadata": {},
   "source": [
    "The box plot suggests a positive trend, with the median chance of admission increasing from around 0.6 for ratings 1.0-2.0 to 0.8-0.9 for ratings 4.0-5.0.\n",
    "Lower LOR ratings have more variability and outliers, while higher ratings (3.5-5.0) show a more consistent higher chance of admission."
   ]
  },
  {
   "cell_type": "code",
   "execution_count": null,
   "id": "3a8f331f",
   "metadata": {},
   "outputs": [],
   "source": [
    "plt.figure(figsize=(8, 6))\n",
    "sns.scatterplot(x='CGPA', y='Chance of Admit', data=df)\n",
    "plt.title('CGPA vs. Chance of Admission')\n",
    "plt.xlabel('CGPA')\n",
    "plt.ylabel('Chance of Admission')\n",
    "plt.show()\n",
    "\n",
    "print(\"Correlation between CGPA and Chance of Admission:\", \n",
    "      df['CGPA'].corr(df['Chance of Admit']))"
   ]
  },
  {
   "cell_type": "markdown",
   "id": "be6bd15f",
   "metadata": {},
   "source": [
    "The scatter plot reveals a strong positive correlation, with higher CGPAs (above 8.5) associated with admission chances above 0.7.\n",
    "The densest cluster of points is between 8.0 and 9.5 CGPA, with chances ranging from 0.6 to 0.9, indicating that CGPA is a significant predictor of admission likelihood."
   ]
  },
  {
   "cell_type": "code",
   "execution_count": null,
   "id": "4bee4c25",
   "metadata": {},
   "outputs": [],
   "source": [
    "plt.figure(figsize=(8, 6))\n",
    "sns.boxplot(x='Research', y='Chance of Admit', data=df)\n",
    "plt.title('Research Experience vs. Chance of Admission')\n",
    "plt.xlabel('Research Experience (0 = No, 1 = Yes)')\n",
    "plt.ylabel('Chance of Admission')\n",
    "plt.show()"
   ]
  },
  {
   "cell_type": "markdown",
   "id": "8ec295e4",
   "metadata": {},
   "source": [
    "The box plot shows that applicants with research experience (1) have a higher median chance of admission (around 0.8) compared to those without (0), where the median is around 0.7.\n",
    "Both groups have a similar interquartile range, but the \"with research\" group has a slightly higher upper bound and fewer outliers below 0.5."
   ]
  },
  {
   "cell_type": "code",
   "execution_count": null,
   "id": "f2eba769",
   "metadata": {},
   "outputs": [],
   "source": [
    "continuous_cols = ['GRE Score', 'TOEFL Score', 'CGPA', 'Chance of Admit']\n",
    "corr_matrix = df[continuous_cols].corr()\n",
    "\n",
    "plt.figure(figsize=(10, 8))\n",
    "sns.heatmap(corr_matrix, annot=True, cmap='coolwarm', vmin=-1, vmax=1, center=0)\n",
    "plt.title('Correlation Matrix of Continuous Features')\n",
    "plt.show()"
   ]
  },
  {
   "cell_type": "markdown",
   "id": "67442194",
   "metadata": {},
   "source": [
    "All continuous features (GRE Score, TOEFL Score, CGPA, Chance of Admit) show strong positive correlations with each other, ranging from 0.79 to 0.88.\n",
    "The strongest correlation is between CGPA and Chance of Admit (0.88), followed by GRE Score and TOEFL Score (0.83), indicating that these factors are highly interrelated and influential on admission chances."
   ]
  },
  {
   "cell_type": "code",
   "execution_count": null,
   "id": "d2c2ebf2",
   "metadata": {},
   "outputs": [],
   "source": [
    "plt.figure(figsize=(12, 10))\n",
    "sns.pairplot(df[continuous_cols])\n",
    "plt.suptitle('Pair Plot of Continuous Features', y=1.02)\n",
    "plt.show()"
   ]
  },
  {
   "cell_type": "markdown",
   "id": "e73df137",
   "metadata": {},
   "source": [
    "The pair plot confirms positive correlations across all pairs of continuous features (GRE Score, TOEFL Score, CGPA, Chance of Admit), with scatter plots showing upward trends.\n",
    "Histograms on the diagonal reinforce the earlier observations of peaked distributions (e.g., GRE around 320-330, TOEFL around 110-115, CGPA around 8.5-9.0, Chance of Admit around 0.7-0.8).\n",
    "The density of points in the scatter plots highlights that higher values of each feature tend to align with higher chances of admission."
   ]
  },
  {
   "cell_type": "markdown",
   "id": "e4c9b288",
   "metadata": {},
   "source": [
    "# Implementation of Logistic Regression #"
   ]
  },
  {
   "cell_type": "markdown",
   "id": "746df33d",
   "metadata": {},
   "source": [
    "Converting the target variable using 0.7 threshold"
   ]
  },
  {
   "cell_type": "code",
   "execution_count": null,
   "id": "52722593",
   "metadata": {},
   "outputs": [],
   "source": [
    "df['Admitted'] = (df['Chance of Admit'] >= 0.7).astype(int)"
   ]
  },
  {
   "cell_type": "code",
   "execution_count": null,
   "id": "83bab368",
   "metadata": {},
   "outputs": [],
   "source": []
  }
 ],
 "metadata": {
  "kernelspec": {
   "display_name": "open",
   "language": "python",
   "name": "python3"
  },
  "language_info": {
   "codemirror_mode": {
    "name": "ipython",
    "version": 3
   },
   "file_extension": ".py",
   "mimetype": "text/x-python",
   "name": "python",
   "nbconvert_exporter": "python",
   "pygments_lexer": "ipython3",
   "version": "3.7.4"
  }
 },
 "nbformat": 4,
 "nbformat_minor": 5
}
