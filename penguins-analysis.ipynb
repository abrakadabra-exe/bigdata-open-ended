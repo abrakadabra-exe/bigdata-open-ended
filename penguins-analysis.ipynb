{
 "cells": [
  {
   "cell_type": "markdown",
   "id": "90b4b15b",
   "metadata": {},
   "source": [
    "# Penguin Datasets EDA & its Predictive Model #\n",
    "\n",
    "Create a predictive model using any supervised ML techniques that can predict\n",
    "the species using the features.\n",
    "Describe the characteristics of the datasets and try to find any underlying pattern to build\n",
    "a hypothesis by using data exploratory tasks.\n",
    "Implement the necessary pre-processing techniques to handle missing values or encode\n",
    "the data into usable formats."
   ]
  },
  {
   "cell_type": "code",
   "execution_count": null,
   "id": "4936ed8b",
   "metadata": {},
   "outputs": [
    {
     "ename": "",
     "evalue": "",
     "output_type": "error",
     "traceback": [
      "\u001b[1;31mRunning cells with 'Python 3.12.3' requires the ipykernel package.\n",
      "\u001b[1;31m<a href='command:jupyter.createPythonEnvAndSelectController'>Create a Python Environment</a> with the required packages.\n",
      "\u001b[1;31mOr install 'ipykernel' using the command: '/usr/bin/python3 -m pip install ipykernel -U --user --force-reinstall'"
     ]
    }
   ],
   "source": [
    "import pandas as pd"
   ]
  },
  {
   "cell_type": "code",
   "execution_count": null,
   "id": "76c53a66",
   "metadata": {},
   "outputs": [],
   "source": [
    "df=pd.read_csv(\"penguins.csv\")\n",
    "df.head()"
   ]
  },
  {
   "cell_type": "code",
   "execution_count": null,
   "id": "b98b946c",
   "metadata": {},
   "outputs": [],
   "source": [
    "df.dtypes"
   ]
  },
  {
   "cell_type": "code",
   "execution_count": null,
   "id": "0de723bb",
   "metadata": {},
   "outputs": [],
   "source": [
    "df.describe()"
   ]
  },
  {
   "cell_type": "code",
   "execution_count": null,
   "id": "6e649a9c",
   "metadata": {},
   "outputs": [],
   "source": [
    "print(f'Total rows: {df.shape[0]}\\nTotal columns: {df.shape[1]}')"
   ]
  },
  {
   "cell_type": "code",
   "execution_count": null,
   "id": "2c22db12",
   "metadata": {},
   "outputs": [],
   "source": [
    "df.isnull().sum()"
   ]
  },
  {
   "cell_type": "code",
   "execution_count": null,
   "id": "c7936298",
   "metadata": {},
   "outputs": [],
   "source": [
    "df['sex'].value_counts()"
   ]
  },
  {
   "cell_type": "code",
   "execution_count": null,
   "id": "07b6b24a",
   "metadata": {},
   "outputs": [],
   "source": [
    "df['island'].value_counts()"
   ]
  },
  {
   "cell_type": "code",
   "execution_count": null,
   "id": "9f4f5a24",
   "metadata": {},
   "outputs": [],
   "source": [
    "df['species'].value_counts()"
   ]
  },
  {
   "cell_type": "code",
   "execution_count": null,
   "id": "72e3fa16",
   "metadata": {},
   "outputs": [],
   "source": [
    "import seaborn as sns\n",
    "import matplotlib.pyplot as plt\n",
    "import pandas as pd"
   ]
  },
  {
   "cell_type": "code",
   "execution_count": null,
   "id": "f9859367",
   "metadata": {},
   "outputs": [],
   "source": [
    "df.hist(figsize=(10,8))\n",
    "plt.show()"
   ]
  },
  {
   "cell_type": "code",
   "execution_count": null,
   "id": "67058aaf",
   "metadata": {},
   "outputs": [],
   "source": [
    "for col in ['flipper_length_mm', 'bill_length_mm', 'body_mass_g']:\n",
    "    sns.kdeplot(df[col])\n",
    "    plt.title(f\"Distribution of {col}\")\n",
    "    plt.show()"
   ]
  },
  {
   "cell_type": "code",
   "execution_count": null,
   "id": "bedf8ddb",
   "metadata": {},
   "outputs": [],
   "source": [
    "for col in ['flipper_length_mm', 'bill_length_mm', 'body_mass_g']:\n",
    "    sns.boxplot(x=df[col])\n",
    "    plt.title(f\"Boxplot of {col}\")\n",
    "    plt.show()"
   ]
  },
  {
   "cell_type": "code",
   "execution_count": null,
   "id": "876c705b",
   "metadata": {},
   "outputs": [],
   "source": [
    "sns.countplot(x='sex',data=df)\n",
    "plt.show()"
   ]
  },
  {
   "cell_type": "code",
   "execution_count": null,
   "id": "75993d2c",
   "metadata": {},
   "outputs": [],
   "source": [
    "sns.countplot(x='island',data=df)\n",
    "plt.show()"
   ]
  },
  {
   "cell_type": "code",
   "execution_count": null,
   "id": "bb82ed38",
   "metadata": {},
   "outputs": [],
   "source": [
    "sns.countplot(x='species',data=df)\n",
    "plt.show()"
   ]
  },
  {
   "cell_type": "code",
   "execution_count": null,
   "id": "9fec4548",
   "metadata": {},
   "outputs": [],
   "source": [
    "sns.pairplot(df,hue=\"species\",diag_kind='kde')\n",
    "plt.show()"
   ]
  },
  {
   "cell_type": "code",
   "execution_count": null,
   "id": "592bed85",
   "metadata": {},
   "outputs": [],
   "source": [
    "plt.figure(figsize=(10,8))\n",
    "sns.heatmap(df.corr(),annot=True,cmap=\"coolwarm\")\n",
    "plt.title(\"Correlation Heatmap\")\n",
    "plt.show()"
   ]
  },
  {
   "cell_type": "code",
   "execution_count": null,
   "id": "011e0964",
   "metadata": {},
   "outputs": [],
   "source": [
    "rows_missing = df[df.isnull().sum(axis=1) > 2]\n",
    "print(rows_missing)"
   ]
  },
  {
   "cell_type": "code",
   "execution_count": null,
   "id": "b197b856",
   "metadata": {},
   "outputs": [],
   "source": [
    "df= df[df.isnull().sum(axis=1) <= 2]"
   ]
  },
  {
   "cell_type": "code",
   "execution_count": null,
   "id": "43872f49",
   "metadata": {},
   "outputs": [],
   "source": [
    "for col in ['bill_length_mm', 'bill_depth_mm', 'flipper_length_mm', 'body_mass_g']:\n",
    "    df[col].fillna(df[col].median(), inplace=True)\n",
    "df['sex'].fillna(df['sex'].mode()[0], inplace=True)"
   ]
  },
  {
   "cell_type": "code",
   "execution_count": null,
   "id": "7ae830fe",
   "metadata": {},
   "outputs": [],
   "source": [
    "df.head()"
   ]
  },
  {
   "cell_type": "markdown",
   "id": "9d86a8c9",
   "metadata": {},
   "source": [
    "### Categorical encoding of species ###"
   ]
  },
  {
   "cell_type": "code",
   "execution_count": null,
   "id": "5ccaca25",
   "metadata": {},
   "outputs": [
    {
     "ename": "",
     "evalue": "",
     "output_type": "error",
     "traceback": [
      "\u001b[1;31mRunning cells with 'Python 3.12.3' requires the ipykernel package.\n",
      "\u001b[1;31m<a href='command:jupyter.createPythonEnvAndSelectController'>Create a Python Environment</a> with the required packages.\n",
      "\u001b[1;31mOr install 'ipykernel' using the command: '/usr/bin/python3 -m pip install ipykernel -U --user --force-reinstall'"
     ]
    }
   ],
   "source": [
    "species_map={'Adelie':0,'Gentoo':1,'Chinstrap':2}\n",
    "df['species']=df['species'].map(species_map)"
   ]
  },
  {
   "cell_type": "markdown",
   "id": "0bb39d36",
   "metadata": {},
   "source": [
    "### Binary encoding of species ###"
   ]
  },
  {
   "cell_type": "code",
   "execution_count": null,
   "id": "4c16f57b",
   "metadata": {},
   "outputs": [],
   "source": [
    "s_map={'MALE':1,'FEMALE':0}\n",
    "df['sex']=df['sex'].map(s_map)"
   ]
  },
  {
   "cell_type": "markdown",
   "id": "41e48764",
   "metadata": {},
   "source": [
    "### One hot encoding ###"
   ]
  },
  {
   "cell_type": "code",
   "execution_count": null,
   "id": "f4d01a3e",
   "metadata": {},
   "outputs": [
    {
     "ename": "",
     "evalue": "",
     "output_type": "error",
     "traceback": [
      "\u001b[1;31mRunning cells with 'Python 3.12.3' requires the ipykernel package.\n",
      "\u001b[1;31m<a href='command:jupyter.createPythonEnvAndSelectController'>Create a Python Environment</a> with the required packages.\n",
      "\u001b[1;31mOr install 'ipykernel' using the command: '/usr/bin/python3 -m pip install ipykernel -U --user --force-reinstall'"
     ]
    }
   ],
   "source": [
    "df = pd.get_dummies(df,columns=['island'],drop_first=True)"
   ]
  },
  {
   "cell_type": "markdown",
   "id": "0a7786d6",
   "metadata": {},
   "source": [
    "### Separating features and target ###"
   ]
  },
  {
   "cell_type": "code",
   "execution_count": null,
   "id": "4e7e88b5",
   "metadata": {},
   "outputs": [
    {
     "ename": "",
     "evalue": "",
     "output_type": "error",
     "traceback": [
      "\u001b[1;31mRunning cells with 'Python 3.12.3' requires the ipykernel package.\n",
      "\u001b[1;31m<a href='command:jupyter.createPythonEnvAndSelectController'>Create a Python Environment</a> with the required packages.\n",
      "\u001b[1;31mOr install 'ipykernel' using the command: '/usr/bin/python3 -m pip install ipykernel -U --user --force-reinstall'"
     ]
    }
   ],
   "source": [
    "x=df.drop('species',axis=1).values\n",
    "y=df['species'].values"
   ]
  },
  {
   "cell_type": "markdown",
   "id": "572b35cf",
   "metadata": {},
   "source": [
    "### Splitting into train and test 90/10 ###"
   ]
  },
  {
   "cell_type": "code",
   "execution_count": null,
   "id": "61db9d73",
   "metadata": {},
   "outputs": [],
   "source": [
    "np.random.seed(42)\n",
    "indices=np.random.permutation(len(x))\n",
    "train_size=(int(0.8*len(x)))\n",
    "train_idx=indices[:train_size]\n",
    "text_idx=indices[train_size:]\n",
    "x_train,x_test=x[train_idx],x[test_idx]\n",
    "y_train,y_test=y[train_idx],y[test_idx]"
   ]
  },
  {
   "cell_type": "markdown",
   "id": "6de54d37",
   "metadata": {},
   "source": [
    "# Implementing KNN #"
   ]
  },
  {
   "cell_type": "code",
   "execution_count": null,
   "id": "b79d9d9d",
   "metadata": {},
   "outputs": [],
   "source": [
    "def euclidean_distance(a,b):\n",
    "    return np.sqrt(np.sum(a-b)**2)\n",
    "\n",
    "def knn_predict(x_train,y_train,x_test,k=5):\n",
    "    predictions=[]\n",
    "    for x in x_test:\n",
    "        distances=[euclidean_distance(x,X_train)for X_train in x_train]\n",
    "        k_indices=np.argsort(distances)[:k]\n",
    "        k_labels=y_train[k_indices]\n",
    "        prediction=np.bicount(k_labels).argmax()\n",
    "        predictions.append(prediction)\n",
    "    return np.array(predictions)"
   ]
  },
  {
   "cell_type": "markdown",
   "id": "dfa40b18",
   "metadata": {},
   "source": [
    "## Making predictions ##"
   ]
  },
  {
   "cell_type": "code",
   "execution_count": null,
   "id": "18b8fbf7",
   "metadata": {},
   "outputs": [],
   "source": [
    "y_pred=knn_predict(x_train,y_train,x_test,k=5)"
   ]
  },
  {
   "cell_type": "markdown",
   "id": "097c7d6f",
   "metadata": {},
   "source": [
    "## Evaluation ##"
   ]
  },
  {
   "cell_type": "code",
   "execution_count": null,
   "id": "ed53c438",
   "metadata": {},
   "outputs": [],
   "source": [
    "accuracy=np.mean(y_pred==y_test)\n",
    "print(f\"Accuracy: {accuracy*100:.2f}%\")"
   ]
  }
 ],
 "metadata": {
  "kernelspec": {
   "display_name": "Python 3",
   "language": "python",
   "name": "python3"
  },
  "language_info": {
   "codemirror_mode": {
    "name": "ipython",
    "version": 3
   },
   "file_extension": ".py",
   "mimetype": "text/x-python",
   "name": "python",
   "nbconvert_exporter": "python",
   "pygments_lexer": "ipython3",
   "version": "3.12.3"
  }
 },
 "nbformat": 4,
 "nbformat_minor": 5
}
